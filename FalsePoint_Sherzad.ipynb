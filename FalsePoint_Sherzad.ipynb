{
  "nbformat": 4,
  "nbformat_minor": 0,
  "metadata": {
    "colab": {
      "provenance": [],
      "collapsed_sections": [],
      "authorship_tag": "ABX9TyPoNVcjU3hKNVDZD4vseOwZ",
      "include_colab_link": true
    },
    "kernelspec": {
      "name": "python3",
      "display_name": "Python 3"
    },
    "language_info": {
      "name": "python"
    }
  },
  "cells": [
    {
      "cell_type": "markdown",
      "metadata": {
        "id": "view-in-github",
        "colab_type": "text"
      },
      "source": [
        "<a href=\"https://colab.research.google.com/github/Sherzadswara/FalseMethod/blob/main/FalsePoint_Sherzad.ipynb\" target=\"_parent\"><img src=\"https://colab.research.google.com/assets/colab-badge.svg\" alt=\"Open In Colab\"/></a>"
      ]
    },
    {
      "cell_type": "code",
      "execution_count": 1,
      "metadata": {
        "colab": {
          "base_uri": "https://localhost:8080/"
        },
        "id": "zR8Q736E4HXG",
        "outputId": "2281a8e4-718f-4122-9566-cc7d78ecf082"
      },
      "outputs": [
        {
          "output_type": "stream",
          "name": "stdout",
          "text": [
            "Result is  : 1.259921049894873 \n"
          ]
        }
      ],
      "source": [
        "def falsePointMethod( func , a , b ):\n",
        "    funca = func(a)\n",
        "    funcb = func(b)\n",
        "    if funca * funcb > 0:\n",
        "        print(\"no root !\")\n",
        "        return None\n",
        "\n",
        "    for _ in range(45):\n",
        "        value = ((a * funcb) - (b * funca)) / (funcb - funca)\n",
        "\n",
        "        if func(value) == 0:\n",
        "            return value\n",
        "        if func(a) * func(value)> 0:\n",
        "            a = value\n",
        "            funca= func(value)\n",
        "        if func(b) * func(value) > 0:\n",
        "            b = value\n",
        "            funcb = func(value)\n",
        "\n",
        "    return value\n",
        "\n",
        "\n",
        "fs = lambda x: x ** 3 - 2\n",
        "\n",
        "fromA= 0\n",
        "toB= 2\n",
        "\n",
        "result = falsePointMethod(fs, fromA, toB)\n",
        "print(f\"Result is  : {result} \")"
      ]
    }
  ]
}